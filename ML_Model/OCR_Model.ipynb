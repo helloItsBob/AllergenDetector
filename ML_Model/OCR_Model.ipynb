{
 "cells": [
  {
   "cell_type": "code",
   "execution_count": null,
   "metadata": {
    "execution": {
     "iopub.execute_input": "2023-11-07T07:53:57.166260Z",
     "iopub.status.busy": "2023-11-07T07:53:57.165995Z",
     "iopub.status.idle": "2023-11-07T07:54:11.739439Z",
     "shell.execute_reply": "2023-11-07T07:54:11.738452Z",
     "shell.execute_reply.started": "2023-11-07T07:53:57.166233Z"
    }
   },
   "outputs": [],
   "source": [
    "#need for kaggle online ipynb\n",
    "#! pip install imutils"
   ]
  },
  {
   "cell_type": "code",
   "execution_count": null,
   "metadata": {
    "execution": {
     "iopub.execute_input": "2023-11-07T07:54:11.741361Z",
     "iopub.status.busy": "2023-11-07T07:54:11.740938Z",
     "iopub.status.idle": "2023-11-07T07:54:15.820586Z",
     "shell.execute_reply": "2023-11-07T07:54:15.819781Z",
     "shell.execute_reply.started": "2023-11-07T07:54:11.741286Z"
    },
    "executionInfo": {
     "elapsed": 386,
     "status": "ok",
     "timestamp": 1699300569130,
     "user": {
      "displayName": "Maksims Fokins",
      "userId": "06260264702503327285"
     },
     "user_tz": -60
    },
    "id": "ZE_3Upkh8S4Q"
   },
   "outputs": [],
   "source": [
    "import numpy as np\n",
    "import pandas as pd\n",
    "from keras.preprocessing.image import ImageDataGenerator\n",
    "import os\n",
    "import random\n",
    "import cv2\n",
    "import imutils\n",
    "import random\n",
    "import matplotlib.pyplot as plt\n",
    "import seaborn as sns\n",
    "from sklearn.preprocessing import LabelBinarizer\n",
    "from keras.utils import to_categorical\n",
    "from keras.models import Sequential\n",
    "from keras import optimizers\n",
    "from sklearn.preprocessing import LabelBinarizer\n",
    "from keras import backend as K\n",
    "from keras.layers import Dense, Activation, Flatten, Dense,MaxPooling2D, Dropout\n",
    "from keras.layers import Conv2D, MaxPooling2D, BatchNormalization\n",
    "import tensorflow as tf"
   ]
  },
  {
   "cell_type": "code",
   "execution_count": null,
   "metadata": {
    "colab": {
     "base_uri": "https://localhost:8080/"
    },
    "execution": {
     "iopub.execute_input": "2023-11-07T07:54:15.822313Z",
     "iopub.status.busy": "2023-11-07T07:54:15.821791Z",
     "iopub.status.idle": "2023-11-07T07:54:16.237934Z",
     "shell.execute_reply": "2023-11-07T07:54:16.236612Z",
     "shell.execute_reply.started": "2023-11-07T07:54:15.822283Z"
    },
    "executionInfo": {
     "elapsed": 9,
     "status": "ok",
     "timestamp": 1699300569997,
     "user": {
      "displayName": "Maksims Fokins",
      "userId": "06260264702503327285"
     },
     "user_tz": -60
    },
    "id": "0NBNVP5Z8S4U",
    "outputId": "b506d66e-c2bf-4c11-949e-1316bdc3be18"
   },
   "outputs": [],
   "source": [
    "# print(\"Num GPUs Available: \", len(tf.config.list_physical_devices('GPU')))\n",
    "\n",
    "# #make sure to use GPU\n",
    "# tf.debugging.set_log_device_placement(True)"
   ]
  },
  {
   "cell_type": "code",
   "execution_count": null,
   "metadata": {
    "colab": {
     "base_uri": "https://localhost:8080/"
    },
    "execution": {
     "iopub.execute_input": "2023-11-07T07:54:16.242111Z",
     "iopub.status.busy": "2023-11-07T07:54:16.241540Z",
     "iopub.status.idle": "2023-11-07T07:54:16.262871Z",
     "shell.execute_reply": "2023-11-07T07:54:16.261844Z",
     "shell.execute_reply.started": "2023-11-07T07:54:16.242069Z"
    },
    "executionInfo": {
     "elapsed": 7,
     "status": "ok",
     "timestamp": 1699300569997,
     "user": {
      "displayName": "Maksims Fokins",
      "userId": "06260264702503327285"
     },
     "user_tz": -60
    },
    "id": "EVsLn4-78S4U",
    "outputId": "0821be22-4f0b-40f1-a625-126b728b92fd"
   },
   "outputs": [],
   "source": [
    "# gpus = tf.config.list_physical_devices('GPU')\n",
    "# gpus"
   ]
  },
  {
   "cell_type": "code",
   "execution_count": null,
   "metadata": {
    "execution": {
     "iopub.execute_input": "2023-11-07T07:54:16.265133Z",
     "iopub.status.busy": "2023-11-07T07:54:16.264246Z",
     "iopub.status.idle": "2023-11-07T07:54:16.273723Z",
     "shell.execute_reply": "2023-11-07T07:54:16.272701Z",
     "shell.execute_reply.started": "2023-11-07T07:54:16.265093Z"
    },
    "executionInfo": {
     "elapsed": 5,
     "status": "ok",
     "timestamp": 1699300569997,
     "user": {
      "displayName": "Maksims Fokins",
      "userId": "06260264702503327285"
     },
     "user_tz": -60
    },
    "id": "M43xho-pFh64"
   },
   "outputs": [],
   "source": [
    "# for google colab - after you load your kaggle api token you can give it permissions on colab (if using colab)\n",
    "# !chmod 600 /content/kaggle.json"
   ]
  },
  {
   "cell_type": "code",
   "execution_count": null,
   "metadata": {
    "execution": {
     "iopub.execute_input": "2023-11-07T07:54:16.275500Z",
     "iopub.status.busy": "2023-11-07T07:54:16.275121Z",
     "iopub.status.idle": "2023-11-07T07:54:16.283892Z",
     "shell.execute_reply": "2023-11-07T07:54:16.282938Z",
     "shell.execute_reply.started": "2023-11-07T07:54:16.275463Z"
    },
    "executionInfo": {
     "elapsed": 5,
     "status": "ok",
     "timestamp": 1699300569997,
     "user": {
      "displayName": "Maksims Fokins",
      "userId": "06260264702503327285"
     },
     "user_tz": -60
    },
    "id": "CItBsSbBE3tl"
   },
   "outputs": [],
   "source": [
    "# google colab \n",
    "# ! kaggle datasets download -d vaibhao/handwritten-characters\n",
    "# ! kaggle datasets download -d landlord/handwriting-recognition"
   ]
  },
  {
   "cell_type": "code",
   "execution_count": null,
   "metadata": {
    "execution": {
     "iopub.execute_input": "2023-11-07T07:54:16.296579Z",
     "iopub.status.busy": "2023-11-07T07:54:16.295651Z",
     "iopub.status.idle": "2023-11-07T07:54:16.305107Z",
     "shell.execute_reply": "2023-11-07T07:54:16.304138Z",
     "shell.execute_reply.started": "2023-11-07T07:54:16.296541Z"
    },
    "executionInfo": {
     "elapsed": 5,
     "status": "ok",
     "timestamp": 1699300569997,
     "user": {
      "displayName": "Maksims Fokins",
      "userId": "06260264702503327285"
     },
     "user_tz": -60
    },
    "id": "RHJGfwKAHLHt"
   },
   "outputs": [],
   "source": [
    "# import zipfile #unzipping the dataset (google colab)\n",
    "# zip_ref = zipfile.ZipFile('handwritten-characters.zip', 'r')\n",
    "# zip_ref.extractall('/content/datasets/handwritten-characters')\n",
    "# zip_ref.close()"
   ]
  },
  {
   "cell_type": "code",
   "execution_count": null,
   "metadata": {
    "execution": {
     "iopub.execute_input": "2023-11-07T07:54:16.307249Z",
     "iopub.status.busy": "2023-11-07T07:54:16.306359Z",
     "iopub.status.idle": "2023-11-07T07:54:16.314738Z",
     "shell.execute_reply": "2023-11-07T07:54:16.313760Z",
     "shell.execute_reply.started": "2023-11-07T07:54:16.307203Z"
    },
    "executionInfo": {
     "elapsed": 5,
     "status": "ok",
     "timestamp": 1699300569997,
     "user": {
      "displayName": "Maksims Fokins",
      "userId": "06260264702503327285"
     },
     "user_tz": -60
    },
    "id": "WSX8gEi-IS1L"
   },
   "outputs": [],
   "source": [
    "# import zipfile #unzipping the dataset (google colab)\n",
    "# zip_ref = zipfile.ZipFile('handwriting-recognition.zip', 'r')\n",
    "# zip_ref.extractall('/content/datasets/handwriting-recognition')\n",
    "# zip_ref.close()"
   ]
  },
  {
   "cell_type": "markdown",
   "metadata": {},
   "source": [
    "Team used next datasets: <br>\n",
    "In first iteration (those two are not used in final model, but can be used for handwritten text recognition):\n",
    "- [Handwritten Characters] https://www.kaggle.com/datasets/vaibhao/handwritten-characters/\n",
    "- [Handwriting Recognition] https://www.kaggle.com/datasets/landlord/handwriting-recognition\n",
    "\n",
    "In second iteration (used in final model):\n",
    "- [Printed Digits] https://www.kaggle.com/datasets/dhruvmomoman/printed-digits\n",
    "- [Camera-Taken Images of Printed English Alphabet] https://www.kaggle.com/datasets/naderabdalghani/camerataken-images-of-printed-english-alphabet"
   ]
  },
  {
   "cell_type": "code",
   "execution_count": null,
   "metadata": {},
   "outputs": [],
   "source": [
    "# for kaggle (online model):\n",
    "# dir = \"/kaggle/input/printed-digits/\"\n",
    "# dir2 = \"/kaggle/input/camerataken-images-of-printed-english-alphabet/\"\n",
    "\n",
    "# for local model:\n",
    "dir = \"datasets/printed-digits/\"\n",
    "dir2 = \"datasets/camerataken-images-of-printed-english-alphabet/\"\n",
    "\n",
    "dataset_data = []\n",
    "img_size = 28\n",
    "\n",
    "non_chars = [\"ImageMap.txt\"]\n",
    "limit_images = 400 #limiting the number of images per label, set to more than 1000 to get all images\n",
    "\n",
    "def get_data(dir, max_images, not_list):\n",
    "    for i in os.listdir(dir):\n",
    "        if i in not_list:\n",
    "            continue\n",
    "        count = 0\n",
    "        sub_directory = os.path.join(dir,i)\n",
    "        for j in os.listdir(sub_directory):\n",
    "            count+=1\n",
    "            if count > max_images: #limiting the number of images per label\n",
    "                break\n",
    "            img = cv2.imread(os.path.join(sub_directory,j),0)\n",
    "            img = cv2.resize(img,(img_size,img_size))\n",
    "            dataset_data.append([img,i])\n",
    "\n",
    "get_data(dir, limit_images, non_chars)\n",
    "get_data(dir2, limit_images, non_chars)\n",
    "\n",
    "len(dataset_data) # must be 5650 + 47,981 = 53,631 images if not limited. 31k if limited to 500 images per label"
   ]
  },
  {
   "cell_type": "code",
   "execution_count": null,
   "metadata": {
    "execution": {
     "iopub.execute_input": "2023-11-07T08:17:36.209887Z",
     "iopub.status.busy": "2023-11-07T08:17:36.209582Z",
     "iopub.status.idle": "2023-11-07T08:17:36.296768Z",
     "shell.execute_reply": "2023-11-07T08:17:36.295998Z",
     "shell.execute_reply.started": "2023-11-07T08:17:36.209861Z"
    },
    "executionInfo": {
     "elapsed": 4,
     "status": "ok",
     "timestamp": 1699300579406,
     "user": {
      "displayName": "Maksims Fokins",
      "userId": "06260264702503327285"
     },
     "user_tz": -60
    },
    "id": "GrWMCRbc8S4X"
   },
   "outputs": [],
   "source": [
    "#splitting the data into train, val and test\n",
    "from sklearn.model_selection import train_test_split\n",
    "\n",
    "X = []\n",
    "y = []\n",
    "\n",
    "for features, label in dataset_data:\n",
    "    X.append(features)\n",
    "    y.append(label)\n",
    "\n",
    "X = np.array(X).reshape(-1, img_size, img_size, 1)\n",
    "y = np.array(y)\n",
    "\n",
    "#remove _ from labels\n",
    "y = [i.replace(\"_\", \"\") for i in y]\n",
    "\n",
    "X_train, X_test, y_train, y_test = train_test_split(X, y, test_size=0.2, random_state=101, stratify=y)\n",
    "\n",
    "X_train, X_val, y_train, y_val = train_test_split(X_train, y_train, test_size=0.2, random_state=101)"
   ]
  },
  {
   "cell_type": "code",
   "execution_count": null,
   "metadata": {},
   "outputs": [],
   "source": [
    "#normalizing the data\n",
    "X_train = X_train/255\n",
    "X_test = X_test/255\n",
    "X_val = X_val/255"
   ]
  },
  {
   "cell_type": "code",
   "execution_count": null,
   "metadata": {
    "execution": {
     "iopub.execute_input": "2023-11-07T08:17:36.312994Z",
     "iopub.status.busy": "2023-11-07T08:17:36.312615Z",
     "iopub.status.idle": "2023-11-07T08:17:36.849492Z",
     "shell.execute_reply": "2023-11-07T08:17:36.848706Z",
     "shell.execute_reply.started": "2023-11-07T08:17:36.312934Z"
    },
    "executionInfo": {
     "elapsed": 830,
     "status": "ok",
     "timestamp": 1699300580232,
     "user": {
      "displayName": "Maksims Fokins",
      "userId": "06260264702503327285"
     },
     "user_tz": -60
    },
    "id": "zp26dsuS8S4X"
   },
   "outputs": [],
   "source": [
    "#one hot encoding the labels\n",
    "LB = LabelBinarizer()\n",
    "y_train = LB.fit_transform(y_train)\n",
    "y_test = LB.fit_transform(y_test)\n",
    "y_val = LB.fit_transform(y_val)"
   ]
  },
  {
   "cell_type": "code",
   "execution_count": null,
   "metadata": {},
   "outputs": [],
   "source": [
    "LB.classes_"
   ]
  },
  {
   "cell_type": "code",
   "execution_count": null,
   "metadata": {
    "colab": {
     "base_uri": "https://localhost:8080/"
    },
    "execution": {
     "iopub.execute_input": "2023-11-07T08:17:37.483825Z",
     "iopub.status.busy": "2023-11-07T08:17:37.483202Z",
     "iopub.status.idle": "2023-11-07T08:17:37.488636Z",
     "shell.execute_reply": "2023-11-07T08:17:37.487576Z",
     "shell.execute_reply.started": "2023-11-07T08:17:37.483788Z"
    },
    "executionInfo": {
     "elapsed": 5,
     "status": "ok",
     "timestamp": 1699300581686,
     "user": {
      "displayName": "Maksims Fokins",
      "userId": "06260264702503327285"
     },
     "user_tz": -60
    },
    "id": "E6jdSTCh8S4Y",
    "outputId": "d3a4b400-56bd-45ff-ca69-26996dc71dac"
   },
   "outputs": [],
   "source": [
    "# features\n",
    "print(X_train.shape,X_val.shape, X_test.shape)"
   ]
  },
  {
   "cell_type": "code",
   "execution_count": null,
   "metadata": {
    "colab": {
     "base_uri": "https://localhost:8080/"
    },
    "execution": {
     "iopub.execute_input": "2023-11-07T08:17:37.490201Z",
     "iopub.status.busy": "2023-11-07T08:17:37.489856Z",
     "iopub.status.idle": "2023-11-07T08:17:37.500715Z",
     "shell.execute_reply": "2023-11-07T08:17:37.499824Z",
     "shell.execute_reply.started": "2023-11-07T08:17:37.490153Z"
    },
    "executionInfo": {
     "elapsed": 5,
     "status": "ok",
     "timestamp": 1699300581686,
     "user": {
      "displayName": "Maksims Fokins",
      "userId": "06260264702503327285"
     },
     "user_tz": -60
    },
    "id": "ZnuXWJSt8S4Y",
    "outputId": "1d701c4f-a5ab-4459-aceb-c533d410f76d"
   },
   "outputs": [],
   "source": [
    "# labels\n",
    "print(y_train.shape,y_val.shape, y_test.shape)"
   ]
  },
  {
   "cell_type": "markdown",
   "metadata": {
    "id": "pN3HE9KC8S4Y"
   },
   "source": [
    "**Experiments with models and layers**\n",
    "- MaxPooling2D to use over AveragePooling2D as it is more robust to noise.\n",
    "- Dropout to reduce overfitting.\n",
    "- BatchNormalization to normalize the activations of the previous layers."
   ]
  },
  {
   "cell_type": "code",
   "execution_count": null,
   "metadata": {
    "colab": {
     "base_uri": "https://localhost:8080/"
    },
    "execution": {
     "iopub.execute_input": "2023-11-07T08:17:37.502493Z",
     "iopub.status.busy": "2023-11-07T08:17:37.502211Z",
     "iopub.status.idle": "2023-11-07T08:17:40.727099Z",
     "shell.execute_reply": "2023-11-07T08:17:40.726191Z",
     "shell.execute_reply.started": "2023-11-07T08:17:37.502459Z"
    },
    "executionInfo": {
     "elapsed": 2958,
     "status": "ok",
     "timestamp": 1699300584641,
     "user": {
      "displayName": "Maksims Fokins",
      "userId": "06260264702503327285"
     },
     "user_tz": -60
    },
    "id": "rB0x0F_48S4Z",
    "outputId": "22bc9076-3d6f-4e10-db13-11954026bb07"
   },
   "outputs": [],
   "source": [
    "model = tf.keras.models.Sequential([\n",
    "    tf.keras.layers.Conv2D(32, (3, 3), strides=(1, 1), activation='relu', padding='same', kernel_initializer='he_normal', input_shape=(img_size, img_size,1)),\n",
    "    tf.keras.layers.MaxPooling2D(),\n",
    "    tf.keras.layers.SpatialDropout2D(0.4),\n",
    "    tf.keras.layers.BatchNormalization(),\n",
    "    tf.keras.layers.Conv2D(64, (3, 3), strides=(1, 1), activation='relu', padding='same', kernel_initializer='he_normal'),\n",
    "    tf.keras.layers.MaxPooling2D(),\n",
    "    tf.keras.layers.SpatialDropout2D(0.4),\n",
    "    tf.keras.layers.BatchNormalization(),\n",
    "    tf.keras.layers.Conv2D(128, (3, 3), strides=(1, 1), activation='relu', padding='same', kernel_initializer='he_normal'),\n",
    "    tf.keras.layers.SpatialDropout2D(0.4),\n",
    "    tf.keras.layers.BatchNormalization(),\n",
    "#    tf.keras.layers.GlobalMaxPooling2D(),\n",
    "#     tf.keras.layers.Reshape((128, 1)), #these 4 layers are for the RNN and increase time taken to train by a lit 2min -> 25min per epoch on CPU\n",
    "#     tf.keras.layers.Bidirectional(tf.keras.layers.LSTM(128, return_sequences=True)),\n",
    "#     tf.keras.layers.Bidirectional(tf.keras.layers.LSTM(128)),\n",
    "#    tf.keras.layers.Dropout(0.4),\n",
    "    tf.keras.layers.Flatten(),\n",
    "    tf.keras.layers.Dense(units=128, activation='relu', kernel_initializer='he_normal'),\n",
    "    tf.keras.layers.Dropout(0.4),\n",
    "    tf.keras.layers.Dense(units=128, activation='relu', kernel_initializer='he_normal'),\n",
    "    tf.keras.layers.Dropout(0.4),\n",
    "    tf.keras.layers.BatchNormalization(),\n",
    "    tf.keras.layers.Dense(units=62, activation='softmax')\n",
    "])\n",
    "\n",
    "model.compile(loss = 'categorical_crossentropy', optimizer = \"adam\", metrics = ['accuracy'])\n",
    "model.summary()"
   ]
  },
  {
   "cell_type": "code",
   "execution_count": null,
   "metadata": {
    "_kg_hide-output": true,
    "colab": {
     "base_uri": "https://localhost:8080/"
    },
    "execution": {
     "iopub.execute_input": "2023-11-07T08:17:40.728597Z",
     "iopub.status.busy": "2023-11-07T08:17:40.728307Z"
    },
    "id": "zGvloDZV8S4a",
    "outputId": "6c5ba9fc-557a-4571-99bd-bd0c94ea3674"
   },
   "outputs": [],
   "source": [
    "#currently in testing purposes we do not need to run a lot of epochs to avoid overfitting\n",
    "es = tf.keras.callbacks.EarlyStopping(monitor = 'val_loss', patience = 2, restore_best_weights=True)\n",
    "history = model.fit(X_train,y_train, epochs=5, batch_size=32, validation_data = (X_val, y_val),  verbose=1, callbacks=[es])"
   ]
  },
  {
   "cell_type": "code",
   "execution_count": null,
   "metadata": {
    "execution": {
     "iopub.execute_input": "2023-11-07T09:04:08.277266Z",
     "iopub.status.busy": "2023-11-07T09:04:08.276860Z",
     "iopub.status.idle": "2023-11-07T09:04:08.544928Z",
     "shell.execute_reply": "2023-11-07T09:04:08.543991Z",
     "shell.execute_reply.started": "2023-11-07T09:04:08.277233Z"
    },
    "id": "lyHR7L3E8S4a"
   },
   "outputs": [],
   "source": [
    "plt.plot(history.history['accuracy'])\n",
    "plt.plot(history.history['val_accuracy'])\n",
    "plt.title('Training Accuracy vs Validation Accuracy')\n",
    "plt.ylabel('Accuracy')\n",
    "plt.xlabel('Epoch')\n",
    "plt.legend(['Train', 'Validation'], loc='upper left')\n",
    "plt.show()"
   ]
  },
  {
   "cell_type": "code",
   "execution_count": null,
   "metadata": {
    "execution": {
     "iopub.execute_input": "2023-11-07T09:04:14.433703Z",
     "iopub.status.busy": "2023-11-07T09:04:14.432998Z",
     "iopub.status.idle": "2023-11-07T09:04:14.709342Z",
     "shell.execute_reply": "2023-11-07T09:04:14.708474Z",
     "shell.execute_reply.started": "2023-11-07T09:04:14.433668Z"
    },
    "id": "hm-6uqhs8S4a"
   },
   "outputs": [],
   "source": [
    "plt.plot(history.history['loss'])\n",
    "plt.plot(history.history['val_loss'])\n",
    "plt.title('Training Loss vs Validation Loss')\n",
    "plt.ylabel('Loss')\n",
    "plt.xlabel('Epoch')\n",
    "plt.legend(['Train', 'Validation'], loc='upper left')\n",
    "plt.show()"
   ]
  },
  {
   "cell_type": "code",
   "execution_count": null,
   "metadata": {},
   "outputs": [],
   "source": [
    "#testing the model\n",
    "test_loss, test_acc = model.evaluate(X_test, y_test, verbose=1)\n",
    "print('Test loss:', test_loss)\n",
    "print('Test accuracy:', test_acc)\n",
    "\n",
    "#save model\n",
    "model.save(\"textReadModel.keras\")"
   ]
  },
  {
   "cell_type": "code",
   "execution_count": null,
   "metadata": {},
   "outputs": [],
   "source": [
    "#Viewing some predictions\n",
    "for i in range(10):\n",
    "    index = random.randint(0, len(X_test))\n",
    "    plt.imshow(X_test[index].reshape(img_size,img_size), cmap='gray')\n",
    "    pred = model.predict(X_test[index].reshape(1,img_size,img_size,1))\n",
    "    print(\"Predicted: \" + LB.classes_[np.argmax(pred)])\n",
    "    print(\"Actual: \" + LB.classes_[np.argmax(y_test[index])])\n",
    "    plt.show()"
   ]
  }
 ],
 "metadata": {
  "accelerator": "GPU",
  "colab": {
   "gpuType": "T4",
   "provenance": []
  },
  "kernelspec": {
   "display_name": "Python 3",
   "language": "python",
   "name": "python3"
  },
  "language_info": {
   "codemirror_mode": {
    "name": "ipython",
    "version": 3
   },
   "file_extension": ".py",
   "mimetype": "text/x-python",
   "name": "python",
   "nbconvert_exporter": "python",
   "pygments_lexer": "ipython3",
   "version": "3.10.4"
  }
 },
 "nbformat": 4,
 "nbformat_minor": 4
}
