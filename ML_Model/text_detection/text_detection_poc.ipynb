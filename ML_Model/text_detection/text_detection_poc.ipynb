{
 "cells": [
  {
   "cell_type": "markdown",
   "metadata": {},
   "source": [
    "<h1> Implementation of code sequence to detect text fields on photo </h1>"
   ]
  },
  {
   "cell_type": "markdown",
   "metadata": {},
   "source": [
    "As one of the possible ways to detect text fields on photo, we can use keras_ocr. It is a package for text detection and recognition with deep learning, yet we will use only text detection part to combine it with our project text recognition model."
   ]
  },
  {
   "cell_type": "markdown",
   "metadata": {},
   "source": [
    "Team also tried to use EAST, OpenCV, Tensorflow and Tesseract, yet decided to proceed with keras_ocr, so other trials won't be commited and pushed to the repository."
   ]
  },
  {
   "cell_type": "markdown",
   "metadata": {},
   "source": [
    "Additional documentation on keras_ocr can be found here: https://keras-ocr.readthedocs.io/en/latest/index.html"
   ]
  },
  {
   "cell_type": "code",
   "execution_count": null,
   "metadata": {},
   "outputs": [],
   "source": [
    "import keras_ocr\n",
    "import matplotlib.pyplot as plt"
   ]
  },
  {
   "cell_type": "code",
   "execution_count": null,
   "metadata": {},
   "outputs": [],
   "source": [
    "# keras-ocr text detector\n",
    "detector = keras_ocr.detection.Detector()"
   ]
  },
  {
   "cell_type": "code",
   "execution_count": null,
   "metadata": {},
   "outputs": [],
   "source": [
    "# read image\n",
    "image = keras_ocr.tools.read('images/lebron_james.jpg')"
   ]
  },
  {
   "cell_type": "code",
   "execution_count": null,
   "metadata": {},
   "outputs": [],
   "source": [
    "# get predictions\n",
    "predictions = detector.detect(images=[image])[0]"
   ]
  },
  {
   "cell_type": "code",
   "execution_count": null,
   "metadata": {},
   "outputs": [],
   "source": [
    "# draw boxes around text\n",
    "image = keras_ocr.tools.drawBoxes(image, predictions, (0,255,0))\n",
    "\n",
    "# show image\n",
    "plt.imshow(image)"
   ]
  },
  {
   "cell_type": "markdown",
   "metadata": {},
   "source": [
    "<h3> Structuring findings as a defined code sequence to use for further image processing </h3>"
   ]
  },
  {
   "cell_type": "code",
   "execution_count": null,
   "metadata": {},
   "outputs": [],
   "source": [
    "def detectText (img):\n",
    "    # get predictions\n",
    "    predictions = detector.detect(images=[img])[0]\n",
    "\n",
    "    # draw boxes around text\n",
    "    image = keras_ocr.tools.drawBoxes(img, predictions, (0,255,0), 0)\n",
    "\n",
    "    # show image\n",
    "    plt.imshow(image)\n",
    "    plt.show()\n",
    "\n",
    "    # return each detected box as a separate image\n",
    "    for i in range(len(predictions)):\n",
    "        temp = keras_ocr.tools.warpBox(img, predictions[i], margin=2)\n",
    "        plt.imshow(temp)\n",
    "        plt.show()"
   ]
  },
  {
   "cell_type": "code",
   "execution_count": null,
   "metadata": {},
   "outputs": [],
   "source": [
    "imgTest = keras_ocr.tools.read('images/car_wash.png')\n",
    "imgTest1 = keras_ocr.tools.read('images/lebron_james.jpg')\n",
    "imgTest2 = keras_ocr.tools.read('images/sign.jpg')"
   ]
  },
  {
   "cell_type": "code",
   "execution_count": null,
   "metadata": {},
   "outputs": [],
   "source": [
    "detectText(imgTest)"
   ]
  },
  {
   "cell_type": "code",
   "execution_count": null,
   "metadata": {},
   "outputs": [],
   "source": [
    "detectText(imgTest1)"
   ]
  },
  {
   "cell_type": "code",
   "execution_count": null,
   "metadata": {},
   "outputs": [],
   "source": [
    "detectText(imgTest2)"
   ]
  },
  {
   "cell_type": "code",
   "execution_count": null,
   "metadata": {},
   "outputs": [],
   "source": [
    "# test with an image from phone camera\n",
    "phonePhotoTest = keras_ocr.tools.read('images/phone_photo_test.jpg')\n",
    "detectText(phonePhotoTest)"
   ]
  },
  {
   "cell_type": "markdown",
   "metadata": {},
   "source": [
    "As can be seen - image (pre)processing could be adjusted for better detection result. Additionaly team can change thesholds for detection to eliminate cropped images with no recognisable text."
   ]
  }
 ],
 "metadata": {
  "kernelspec": {
   "display_name": "Python 3",
   "language": "python",
   "name": "python3"
  },
  "language_info": {
   "codemirror_mode": {
    "name": "ipython",
    "version": 3
   },
   "file_extension": ".py",
   "mimetype": "text/x-python",
   "name": "python",
   "nbconvert_exporter": "python",
   "pygments_lexer": "ipython3",
   "version": "3.10.4"
  }
 },
 "nbformat": 4,
 "nbformat_minor": 2
}
